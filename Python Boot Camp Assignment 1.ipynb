{
  "nbformat": 4,
  "nbformat_minor": 0,
  "metadata": {
    "colab": {
      "provenance": []
    },
    "kernelspec": {
      "name": "python3",
      "display_name": "Python 3"
    },
    "language_info": {
      "name": "python"
    }
  },
  "cells": [
    {
      "cell_type": "markdown",
      "source": [
        "Assignment # 1 Summited by Sahar Ejaz"
      ],
      "metadata": {
        "id": "AVdZ7I-5sQlo"
      }
    },
    {
      "cell_type": "markdown",
      "source": [
        "1: Variable"
      ],
      "metadata": {
        "id": "RzdP9cuBsdvt"
      }
    },
    {
      "cell_type": "code",
      "execution_count": 1,
      "metadata": {
        "colab": {
          "base_uri": "https://localhost:8080/"
        },
        "id": "1F9nrmuwsNMq",
        "outputId": "90e3ce9b-fb32-42b6-f28f-84cb9739f78f"
      },
      "outputs": [
        {
          "output_type": "stream",
          "name": "stdout",
          "text": [
            "My name is Sahar and I am 25 years old.\n"
          ]
        }
      ],
      "source": [
        "# Create variables\n",
        "\n",
        "name = \"Sahar\"\n",
        "age = 25\n",
        "\n",
        "print(f\"My name is {name} and I am {age} years old.\")\n",
        "\n"
      ]
    },
    {
      "cell_type": "code",
      "source": [
        "# print value in third variable\n",
        "\n",
        "x = 10\n",
        "y = 20\n",
        "z = y, x\n",
        "print(z)"
      ],
      "metadata": {
        "colab": {
          "base_uri": "https://localhost:8080/"
        },
        "id": "OgzgPWhk3Uyk",
        "outputId": "5ff4e080-861c-4809-b126-264d20d5f3e7"
      },
      "execution_count": 2,
      "outputs": [
        {
          "output_type": "stream",
          "name": "stdout",
          "text": [
            "(20, 10)\n"
          ]
        }
      ]
    },
    {
      "cell_type": "markdown",
      "source": [
        "2: Operators"
      ],
      "metadata": {
        "id": "uP383_Kf4J3i"
      }
    },
    {
      "cell_type": "code",
      "source": [
        "# Take two numbers input from user\n",
        "a = int(input(\"Enter first number: \"))\n",
        "b = int(input(\"Enter second number: \"))\n",
        "\n",
        "print(\"Sum =\", a + b)\n",
        "print(\"Difference =\", a - b)\n",
        "print(\"Product =\", a * b)\n",
        "print(\"Quotient =\", a / b)\n",
        "\n",
        "# Take two numbers from user\n",
        "a = int(input(\"Enter first number: \"))\n",
        "b = int(input(\"Enter second number: \"))\n",
        "\n",
        "print(\"Sum =\", a + b)\n",
        "print(\"Difference =\", a - b)\n",
        "print(\"Product =\", a * b)\n",
        "print(\"Quotient =\", a / b)\n",
        "\n"
      ],
      "metadata": {
        "colab": {
          "base_uri": "https://localhost:8080/"
        },
        "id": "YfscggtR4Xu4",
        "outputId": "bcf87178-59de-4eee-da65-6dcb9a670817"
      },
      "execution_count": 3,
      "outputs": [
        {
          "output_type": "stream",
          "name": "stdout",
          "text": [
            "Enter first number: 7\n",
            "Enter second number: 8\n",
            "Sum = 15\n",
            "Difference = -1\n",
            "Product = 56\n",
            "Quotient = 0.875\n",
            "Enter first number: 2\n",
            "Enter second number: 8\n",
            "Sum = 10\n",
            "Difference = -6\n",
            "Product = 16\n",
            "Quotient = 0.25\n"
          ]
        }
      ]
    },
    {
      "cell_type": "code",
      "source": [
        "# Check even or odd\n",
        "num = int(input(\"Enter a number: \"))\n",
        "if num % 2 == 0:\n",
        "    print(\"Even number\")\n",
        "else:\n",
        "    print(\"Odd number\")\n"
      ],
      "metadata": {
        "colab": {
          "base_uri": "https://localhost:8080/"
        },
        "id": "1U37yPFV5Zy4",
        "outputId": "d6104727-30f3-47dc-c2c8-9140bd8a1544"
      },
      "execution_count": 4,
      "outputs": [
        {
          "output_type": "stream",
          "name": "stdout",
          "text": [
            "Enter a number: 2\n",
            "Even number\n"
          ]
        }
      ]
    },
    {
      "cell_type": "markdown",
      "source": [
        "3: Conditions"
      ],
      "metadata": {
        "id": "UNFSU8bs58j3"
      }
    },
    {
      "cell_type": "code",
      "source": [
        "# Eligible to vote\n",
        "age = int(input(\"Enter your age: \"))\n",
        "if age >= 18:\n",
        "    print(\"Eligible to vote\")\n",
        "else:\n",
        "    print(\"Not eligible to vote\")\n",
        "\n"
      ],
      "metadata": {
        "colab": {
          "base_uri": "https://localhost:8080/"
        },
        "id": "arK0bYRZ5_FD",
        "outputId": "a703b413-c1d4-4f9c-9d95-d60bfa989208"
      },
      "execution_count": 5,
      "outputs": [
        {
          "output_type": "stream",
          "name": "stdout",
          "text": [
            "Enter your age: 42\n",
            "Eligible to vote\n"
          ]
        }
      ]
    },
    {
      "cell_type": "markdown",
      "source": [
        "4: Loops"
      ],
      "metadata": {
        "id": "XT7NTD3H64fO"
      }
    },
    {
      "cell_type": "code",
      "source": [
        "# Print numbers 1 to 10\n",
        "for i in range(1, 11):\n",
        "    print(i)\n"
      ],
      "metadata": {
        "colab": {
          "base_uri": "https://localhost:8080/"
        },
        "id": "yWjNrMtL6ozo",
        "outputId": "f6d88c08-5988-44db-fc18-8687f18f2a24"
      },
      "execution_count": 9,
      "outputs": [
        {
          "output_type": "stream",
          "name": "stdout",
          "text": [
            "1\n",
            "2\n",
            "3\n",
            "4\n",
            "5\n",
            "6\n",
            "7\n",
            "8\n",
            "9\n",
            "10\n"
          ]
        }
      ]
    },
    {
      "cell_type": "code",
      "source": [
        "# Multiplication table\n",
        "num = int(input(\"Enter a number: \"))\n",
        "for i in range(1, 11):\n",
        "    print(f\"{num} x {i} = {num*i}\")"
      ],
      "metadata": {
        "colab": {
          "base_uri": "https://localhost:8080/"
        },
        "id": "8yoexh1J7QBH",
        "outputId": "44394a5e-65fd-40b1-cf5e-3ac1c41631c3"
      },
      "execution_count": 10,
      "outputs": [
        {
          "output_type": "stream",
          "name": "stdout",
          "text": [
            "Enter a number: 2\n",
            "2 x 1 = 2\n",
            "2 x 2 = 4\n",
            "2 x 3 = 6\n",
            "2 x 4 = 8\n",
            "2 x 5 = 10\n",
            "2 x 6 = 12\n",
            "2 x 7 = 14\n",
            "2 x 8 = 16\n",
            "2 x 9 = 18\n",
            "2 x 10 = 20\n"
          ]
        }
      ]
    },
    {
      "cell_type": "code",
      "source": [
        "# Sum 1 to n\n",
        "n = int(input(\"Enter a number: \"))\n",
        "total = 0\n",
        "for i in range(1, n+1):\n",
        "    total += i\n",
        "print(\"Sum =\", total)\n"
      ],
      "metadata": {
        "colab": {
          "base_uri": "https://localhost:8080/"
        },
        "id": "NCu3fdWy7fNl",
        "outputId": "01543f13-4a55-4aa6-aa93-f3648e7bbda3"
      },
      "execution_count": 11,
      "outputs": [
        {
          "output_type": "stream",
          "name": "stdout",
          "text": [
            "Enter a number: 4\n",
            "Sum = 10\n"
          ]
        }
      ]
    },
    {
      "cell_type": "markdown",
      "source": [
        "5: Functions"
      ],
      "metadata": {
        "id": "Yue6_7JC9EuH"
      }
    },
    {
      "cell_type": "code",
      "source": [
        "# Greet function\n",
        "def greet(name):\n",
        "    print(f\"Hello, {name}!\")\n",
        "\n",
        "greet(\"Sahar\")\n",
        "\n"
      ],
      "metadata": {
        "colab": {
          "base_uri": "https://localhost:8080/"
        },
        "id": "xH66X8Oz9HT8",
        "outputId": "2268e8af-06b7-401f-8490-b3519d078ce1"
      },
      "execution_count": 13,
      "outputs": [
        {
          "output_type": "stream",
          "name": "stdout",
          "text": [
            "Hello, Sahar!\n"
          ]
        }
      ]
    },
    {
      "cell_type": "code",
      "source": [
        "# Prime check function\n",
        "def is_prime(n):\n",
        "    if n < 2:\n",
        "        return False\n",
        "    for i in range(2, int(n**0.5)+1):\n",
        "        if n % i == 0:\n",
        "            return False\n",
        "    return True\n",
        "\n",
        "print(is_prime(7))   # True\n",
        "print(is_prime(10))  # False\n"
      ],
      "metadata": {
        "colab": {
          "base_uri": "https://localhost:8080/"
        },
        "id": "f77cTYzj91pi",
        "outputId": "5b8533bd-264c-4875-d76f-d1dcb2c8caee"
      },
      "execution_count": 15,
      "outputs": [
        {
          "output_type": "stream",
          "name": "stdout",
          "text": [
            "True\n",
            "False\n"
          ]
        }
      ]
    },
    {
      "cell_type": "markdown",
      "source": [
        "6: Lists"
      ],
      "metadata": {
        "id": "JRd90u8CAW6x"
      }
    },
    {
      "cell_type": "code",
      "source": [
        "# List of fruits\n",
        "fruits = [\"Apple\", \"Banana\", \"Mango\", \"Orange\", \"Grapes\"]\n",
        "print(\"Second fruit:\", fruits[1])\n",
        "print(\"Last fruit:\", fruits[-1])\n",
        "\n"
      ],
      "metadata": {
        "colab": {
          "base_uri": "https://localhost:8080/"
        },
        "id": "BjRAHBFeAZ4I",
        "outputId": "4900ea96-65e7-4a27-e2f1-217a60d8dbd1"
      },
      "execution_count": 16,
      "outputs": [
        {
          "output_type": "stream",
          "name": "stdout",
          "text": [
            "Second fruit: Banana\n",
            "Last fruit: Grapes\n"
          ]
        }
      ]
    },
    {
      "cell_type": "code",
      "source": [
        "# Add and remove fruit\n",
        "fruits.append(\"Pineapple\")\n",
        "fruits.pop(0)\n",
        "print(\"Updated fruits:\", fruits)"
      ],
      "metadata": {
        "colab": {
          "base_uri": "https://localhost:8080/"
        },
        "id": "2RNKqp5JAj7W",
        "outputId": "d041e10f-c271-4ac3-d61b-6e976bf071c9"
      },
      "execution_count": 17,
      "outputs": [
        {
          "output_type": "stream",
          "name": "stdout",
          "text": [
            "Updated fruits: ['Banana', 'Mango', 'Orange', 'Grapes', 'Pineapple']\n"
          ]
        }
      ]
    },
    {
      "cell_type": "code",
      "source": [
        "# Max and Min from integers list\n",
        "numbers = [12, 45, 2, 67, 34]\n",
        "print(\"Max:\", max(numbers))\n",
        "print(\"Min:\", min(numbers))\n"
      ],
      "metadata": {
        "colab": {
          "base_uri": "https://localhost:8080/"
        },
        "id": "Cc8kNccFAlCo",
        "outputId": "9a3a0321-b8c4-4a50-9460-9f09128f4e80"
      },
      "execution_count": 18,
      "outputs": [
        {
          "output_type": "stream",
          "name": "stdout",
          "text": [
            "Max: 67\n",
            "Min: 2\n"
          ]
        }
      ]
    },
    {
      "cell_type": "markdown",
      "source": [
        "7: Dictionary"
      ],
      "metadata": {
        "id": "R3QaBKCGBCGr"
      }
    },
    {
      "cell_type": "code",
      "source": [
        "# Dictionary with details\n",
        "person = {\"name\": \"Sahar\", \"age\": 25, \"city\": \"Karachi\"}\n",
        "print(person)\n",
        "\n",
        "# Add new key\n",
        "person[\"country\"] = \"Pakistan\"\n",
        "print(person)\n",
        "\n"
      ],
      "metadata": {
        "colab": {
          "base_uri": "https://localhost:8080/"
        },
        "id": "ILROBs6-BE8q",
        "outputId": "70e29982-e629-49b4-efd9-9dc07e894bc3"
      },
      "execution_count": 20,
      "outputs": [
        {
          "output_type": "stream",
          "name": "stdout",
          "text": [
            "{'name': 'Sahar', 'age': 25, 'city': 'Karachi'}\n",
            "{'name': 'Sahar', 'age': 25, 'city': 'Karachi', 'country': 'Pakistan'}\n"
          ]
        }
      ]
    },
    {
      "cell_type": "markdown",
      "source": [
        "8: Set"
      ],
      "metadata": {
        "id": "ylbzMb9fBdSp"
      }
    },
    {
      "cell_type": "code",
      "source": [
        "# Create two sets\n",
        "set1 = {1, 2, 3, 4}\n",
        "set2 = {3, 4, 5, 6}\n",
        "\n",
        "print(\"Union:\", set1 | set2)\n",
        "print(\"Intersection:\", set1 & set2)\n",
        "print(\"Difference:\", set1 - set2)\n",
        "\n"
      ],
      "metadata": {
        "colab": {
          "base_uri": "https://localhost:8080/"
        },
        "id": "dZMWJr0IBi1E",
        "outputId": "d4925d42-e468-4321-917e-c76d72b82187"
      },
      "execution_count": 21,
      "outputs": [
        {
          "output_type": "stream",
          "name": "stdout",
          "text": [
            "Union: {1, 2, 3, 4, 5, 6}\n",
            "Intersection: {3, 4}\n",
            "Difference: {1, 2}\n"
          ]
        }
      ]
    },
    {
      "cell_type": "code",
      "source": [
        "# Remove duplicates from list\n",
        "nums = [1, 2, 2, 3, 4, 4, 5]\n",
        "unique_nums = list(set(nums))\n",
        "print(\"Unique list:\", unique_nums)\n"
      ],
      "metadata": {
        "colab": {
          "base_uri": "https://localhost:8080/"
        },
        "id": "TGlTSTbUBq-m",
        "outputId": "b2ed697d-944f-4a1d-c22b-5526b6eee513"
      },
      "execution_count": 22,
      "outputs": [
        {
          "output_type": "stream",
          "name": "stdout",
          "text": [
            "Unique list: [1, 2, 3, 4, 5]\n"
          ]
        }
      ]
    },
    {
      "cell_type": "markdown",
      "source": [
        "9: Tuples"
      ],
      "metadata": {
        "id": "TfKh3rxoCBAY"
      }
    },
    {
      "cell_type": "code",
      "source": [
        "# Tuple with numbers\n",
        "t = (10, 20, 30, 40, 50)\n",
        "print(\"First element:\", t[0])\n",
        "print(\"Last element:\", t[-1])\n",
        "\n",
        "# Check element exists\n",
        "element = 30\n",
        "if element in t:\n",
        "    print(f\"{element} exists in tuple\")\n",
        "else:\n",
        "    print(f\"{element} does not exist in tuple\")\n"
      ],
      "metadata": {
        "colab": {
          "base_uri": "https://localhost:8080/"
        },
        "id": "oduhAoGrCCYY",
        "outputId": "1115d450-734d-426f-dc4b-e281fadadd5c"
      },
      "execution_count": 26,
      "outputs": [
        {
          "output_type": "stream",
          "name": "stdout",
          "text": [
            "First element: 10\n",
            "Last element: 50\n",
            "30 exists in tuple\n"
          ]
        }
      ]
    },
    {
      "cell_type": "markdown",
      "source": [
        "10: Exception Handling"
      ],
      "metadata": {
        "id": "FdGlt7GlCEma"
      }
    },
    {
      "cell_type": "code",
      "source": [
        "# Divide two numbers with ZeroDivisionError\n",
        "try:\n",
        "    a = int(input(\"Enter numerator: \"))\n",
        "    b = int(input(\"Enter denominator: \"))\n",
        "    print(\"Result =\", a / b)\n",
        "except ZeroDivisionError:\n",
        "    print(\"Error: Cannot divide by zero!\")\n",
        "\n",
        "# Handle ValueError\n",
        "try:\n",
        "    n = int(input(\"Enter a number: \"))\n",
        "    print(\"You entered:\", n)\n",
        "except ValueError:\n",
        "    print(\"Error: That is not a valid number!\")\n"
      ],
      "metadata": {
        "colab": {
          "base_uri": "https://localhost:8080/"
        },
        "id": "gBFEPW9MCIW4",
        "outputId": "18293bd1-cf72-46d4-d02a-ee9d520caa49"
      },
      "execution_count": 28,
      "outputs": [
        {
          "output_type": "stream",
          "name": "stdout",
          "text": [
            "Enter numerator: 67\n",
            "Enter denominator: 0\n",
            "Error: Cannot divide by zero!\n",
            "Enter a number: 87\n",
            "You entered: 87\n"
          ]
        }
      ]
    }
  ]
}